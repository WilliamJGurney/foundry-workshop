{
 "cells": [
  {
   "cell_type": "markdown",
   "metadata": {
    "slideshow": {
     "slide_type": "slide"
    }
   },
   "source": [
    "<img src=\"assets/fcml_slide1.png\" width=\"1400\">"
   ]
  },
  {
   "cell_type": "markdown",
   "metadata": {
    "slideshow": {
     "slide_type": "subslide"
    }
   },
   "source": [
    "<a id=\"ai\"> </a>\n",
    "## Data Science vs. Machine Learning vs. AI\n",
    "\n",
    "<img src=\"assets/ml.png\" width=\"500\"/>\n",
    "\n",
    "Source: [Laurence Moroney](https://www.meetup.com/The-Telegraph-Engineering/events/251468961/) (Staff Developer Advocate at Google)"
   ]
  },
  {
   "cell_type": "markdown",
   "metadata": {
    "slideshow": {
     "slide_type": "slide"
    }
   },
   "source": [
    "<img src=\"assets/fcml_slide2.png\" width=\"1400\">"
   ]
  },
  {
   "cell_type": "markdown",
   "metadata": {
    "slideshow": {
     "slide_type": "slide"
    }
   },
   "source": [
    "<img src=\"assets/fcml_slide3.png\" width=\"1400\">"
   ]
  },
  {
   "cell_type": "markdown",
   "metadata": {
    "slideshow": {
     "slide_type": "slide"
    }
   },
   "source": [
    "## The following figure suggests the iterative trial-and-error process that machine learning algorithms use to train a model:\n",
    "\n",
    "\n",
    "\n",
    "<img src=\"https://developers.google.com/machine-learning/crash-course/images/GradientDescentDiagram.svg\" width=\"1400\">"
   ]
  },
  {
   "cell_type": "markdown",
   "metadata": {
    "slideshow": {
     "slide_type": "slide"
    }
   },
   "source": [
    "## Training and Loss\n",
    "\n",
    "Training a model means learning (determining) good values for all the weights and the bias from labeled examples.\n",
    "\n",
    "<img src=\"https://developers.google.com/machine-learning/crash-course/images/LossSideBySide.png\"/>\n",
    "\n",
    "Q - Which model has the highest loss?\n",
    "\n",
    "Source: [Google Developers Machine Learning Course](https://developers.google.com/machine-learning/crash-course/descending-into-ml/training-and-loss)"
   ]
  },
  {
   "cell_type": "markdown",
   "metadata": {
    "slideshow": {
     "slide_type": "slide"
    }
   },
   "source": [
    "<img src=\"https://developers.google.com/machine-learning/crash-course/images/GradientDescentDiagram.svg\" width=\"1400\">"
   ]
  },
  {
   "cell_type": "markdown",
   "metadata": {
    "slideshow": {
     "slide_type": "slide"
    }
   },
   "source": [
    "<img src=\"https://cdn-images-1.medium.com/max/1600/1*IjxpxWcKX8EJUVFBNFeKdA.gif\" size=\"150\">\n",
    "\n",
    "Source: [Siraj Raval](https://github.com/llSourcell/linear_regression_live)"
   ]
  },
  {
   "cell_type": "markdown",
   "metadata": {
    "slideshow": {
     "slide_type": "slide"
    }
   },
   "source": [
    "<img src=\"assets/fcml_slide5.png\" width=\"1400\">"
   ]
  },
  {
   "cell_type": "code",
   "execution_count": null,
   "metadata": {},
   "outputs": [],
   "source": []
  }
 ],
 "metadata": {
  "celltoolbar": "Slideshow",
  "kernelspec": {
   "display_name": "Python 3",
   "language": "python",
   "name": "python3"
  },
  "language_info": {
   "codemirror_mode": {
    "name": "ipython",
    "version": 3
   },
   "file_extension": ".py",
   "mimetype": "text/x-python",
   "name": "python",
   "nbconvert_exporter": "python",
   "pygments_lexer": "ipython3",
   "version": "3.6.8"
  }
 },
 "nbformat": 4,
 "nbformat_minor": 2
}
