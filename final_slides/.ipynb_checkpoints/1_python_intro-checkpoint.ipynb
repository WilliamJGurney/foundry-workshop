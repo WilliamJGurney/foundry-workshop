{
 "cells": [
  {
   "cell_type": "markdown",
   "metadata": {
    "slideshow": {
     "slide_type": "slide"
    }
   },
   "source": [
    "<img src=\"https://thetalentmanager.s3.amazonaws.com/company/3ac85ceb71a43ed9e913f09e0ea147c7.jpg\" style=\"float: left; margin: 20px; height: 200px; width: 200px\"> <h1>Tech Workshop - EY Impact Weekend</h1>\n",
    "\n",
    "**After this session, you will be able to:**\n",
    "- Discuss Python as a programming language\n",
    "- Understand how to validate a ML model\n",
    "- Apply neural networks as an aggregation of logistic regression functions\n",
    "- Use SkLearn on the Iris dataset\n",
    "- Apply Keras to the Iris dataset\n",
    "\n"
   ]
  },
  {
   "cell_type": "markdown",
   "metadata": {
    "slideshow": {
     "slide_type": "slide"
    }
   },
   "source": [
    "<h1>Python Foundations</h1>\n",
    "<img src=\"assets/xkcd_python.png\" width=\"400\" >"
   ]
  },
  {
   "cell_type": "markdown",
   "metadata": {
    "slideshow": {
     "slide_type": "slide"
    }
   },
   "source": [
    "<a id='why_py'></a>\n",
    "\n",
    "## Why Use Python for Data Science?\n",
    "\n",
    "“Python where we can, C++ where we must” – Sergey Brin, Larry page and Craig Silverstein\n",
    "\n",
    "<img src=\"https://qph.fs.quoracdn.net/main-qimg-215f340191be293d937c08338086eb67\"></img>"
   ]
  },
  {
   "cell_type": "markdown",
   "metadata": {
    "slideshow": {
     "slide_type": "subslide"
    }
   },
   "source": [
    "These are some of the more prominent reasons Python has been so widely adopted for data science."
   ]
  },
  {
   "cell_type": "markdown",
   "metadata": {
    "slideshow": {
     "slide_type": "subslide"
    }
   },
   "source": [
    "**General purpose**"
   ]
  },
  {
   "cell_type": "markdown",
   "metadata": {
    "slideshow": {
     "slide_type": "subslide"
    }
   },
   "source": [
    "**Open source** "
   ]
  },
  {
   "cell_type": "markdown",
   "metadata": {
    "slideshow": {
     "slide_type": "subslide"
    }
   },
   "source": [
    "**Rich ecosystem**"
   ]
  },
  {
   "cell_type": "markdown",
   "metadata": {
    "slideshow": {
     "slide_type": "fragment"
    }
   },
   "source": [
    "Here are a few examples:\n",
    "- `pandas`, `numpy`, `matplotlib`, `scikit-learn`: the \"Data Science toolkit\"\n",
    "- `requests`: Interacting with websites.\n",
    "- `django`: Python web framework.\n",
    "- `pyglet`: GUI application building.\n",
    "- `tensorflow`: Google's machine learning library."
   ]
  },
  {
   "cell_type": "markdown",
   "metadata": {
    "slideshow": {
     "slide_type": "subslide"
    }
   },
   "source": [
    "**Readability**"
   ]
  },
  {
   "cell_type": "markdown",
   "metadata": {
    "slideshow": {
     "slide_type": "slide"
    }
   },
   "source": [
    "<a id='intro'></a>\n",
    "## Introduction: Python Data Types - WG - maybe change to if/else and dataframes\n",
    "\n",
    "There are several _standard_ data types within Python, the seven most common being:"
   ]
  },
  {
   "cell_type": "markdown",
   "metadata": {
    "slideshow": {
     "slide_type": "fragment"
    }
   },
   "source": [
    "Actually, you tell me!"
   ]
  },
  {
   "cell_type": "markdown",
   "metadata": {
    "slideshow": {
     "slide_type": "subslide"
    }
   },
   "source": [
    "**Integers:** Whole numbers from negative infinity to infinity, such as 1, 0, -5, etc.\n",
    "**Floats:** Short for \"floating point number,\" usually used with decimals such as 2.8 or 3.14159."
   ]
  },
  {
   "cell_type": "code",
   "execution_count": 1,
   "metadata": {
    "slideshow": {
     "slide_type": "subslide"
    }
   },
   "outputs": [
    {
     "data": {
      "text/plain": [
       "(int, float)"
      ]
     },
     "execution_count": 1,
     "metadata": {},
     "output_type": "execute_result"
    }
   ],
   "source": [
    "x_int = 1\n",
    "x_float =1.0\n",
    "\n",
    "type(x_int), type(x_float)"
   ]
  },
  {
   "cell_type": "markdown",
   "metadata": {
    "slideshow": {
     "slide_type": "subslide"
    }
   },
   "source": [
    "**Strings:** A set of letters, numbers, or other characters, e.g., \"The fox is quick.\""
   ]
  },
  {
   "cell_type": "code",
   "execution_count": 14,
   "metadata": {
    "slideshow": {
     "slide_type": "subslide"
    }
   },
   "outputs": [
    {
     "name": "stdout",
     "output_type": "stream",
     "text": [
      "Hello Oxford Foundery\n",
      "Hello Oxford Foundry\n"
     ]
    }
   ],
   "source": [
    "foundry = \"Hello Oxford Foundery\"\n",
    "print(foundry)\n",
    "foundry_correct = foundry.replace(\"Foundery\", \"Foundry\")\n",
    "print(foundry_correct)"
   ]
  },
  {
   "cell_type": "markdown",
   "metadata": {
    "slideshow": {
     "slide_type": "subslide"
    }
   },
   "source": [
    "**Booleans:** True or False values"
   ]
  },
  {
   "cell_type": "code",
   "execution_count": 31,
   "metadata": {},
   "outputs": [
    {
     "data": {
      "text/plain": [
       "False"
      ]
     },
     "execution_count": 31,
     "metadata": {},
     "output_type": "execute_result"
    }
   ],
   "source": [
    "True and False"
   ]
  },
  {
   "cell_type": "code",
   "execution_count": 32,
   "metadata": {},
   "outputs": [
    {
     "data": {
      "text/plain": [
       "True"
      ]
     },
     "execution_count": 32,
     "metadata": {},
     "output_type": "execute_result"
    }
   ],
   "source": [
    "True or False"
   ]
  },
  {
   "cell_type": "code",
   "execution_count": 33,
   "metadata": {},
   "outputs": [
    {
     "data": {
      "text/plain": [
       "True"
      ]
     },
     "execution_count": 33,
     "metadata": {},
     "output_type": "execute_result"
    }
   ],
   "source": [
    "not False"
   ]
  },
  {
   "cell_type": "code",
   "execution_count": 45,
   "metadata": {},
   "outputs": [
    {
     "data": {
      "text/plain": [
       "True"
      ]
     },
     "execution_count": 45,
     "metadata": {},
     "output_type": "execute_result"
    }
   ],
   "source": [
    "universities = [\"Oxford\", \"LSE\", \"Kings\"]\n",
    "not \"Cambridge\" in universities"
   ]
  },
  {
   "cell_type": "markdown",
   "metadata": {
    "slideshow": {
     "slide_type": "subslide"
    }
   },
   "source": [
    "**Tuples:** An ordered sequence with a fixed number of elements, e.g., in `x = (1, 2, 3)`, the brackets makes it a tuple. `x = (\"Kirk\", \"Picard\", \"Spock\")`"
   ]
  },
  {
   "cell_type": "code",
   "execution_count": 54,
   "metadata": {
    "slideshow": {
     "slide_type": "subslide"
    }
   },
   "outputs": [
    {
     "ename": "TypeError",
     "evalue": "'int' object is not callable",
     "output_type": "error",
     "traceback": [
      "\u001b[0;31m---------------------------------------------------------------------------\u001b[0m",
      "\u001b[0;31mTypeError\u001b[0m                                 Traceback (most recent call last)",
      "\u001b[0;32m<ipython-input-54-4bdc5ac66274>\u001b[0m in \u001b[0;36m<module>\u001b[0;34m\u001b[0m\n\u001b[1;32m      1\u001b[0m \u001b[0mfoundry_students\u001b[0m \u001b[0;34m=\u001b[0m \u001b[0;34m(\u001b[0m\u001b[0;36m100\u001b[0m\u001b[0;34m,\u001b[0m \u001b[0;36m200\u001b[0m\u001b[0;34m,\u001b[0m \u001b[0;36m300\u001b[0m\u001b[0;34m)\u001b[0m\u001b[0;34m\u001b[0m\u001b[0;34m\u001b[0m\u001b[0m\n\u001b[0;32m----> 2\u001b[0;31m \u001b[0mfoundry_students\u001b[0m\u001b[0;34m[\u001b[0m\u001b[0;36m0\u001b[0m\u001b[0;34m]\u001b[0m\u001b[0;34m(\u001b[0m\u001b[0;36m150\u001b[0m\u001b[0;34m)\u001b[0m\u001b[0;34m\u001b[0m\u001b[0;34m\u001b[0m\u001b[0m\n\u001b[0m",
      "\u001b[0;31mTypeError\u001b[0m: 'int' object is not callable"
     ]
    }
   ],
   "source": [
    "foundry_students = (100, 200, 300)\n",
    "foundry_students[0](150)"
   ]
  },
  {
   "cell_type": "markdown",
   "metadata": {
    "slideshow": {
     "slide_type": "subslide"
    }
   },
   "source": [
    "**Lists:** An ordered sequence without a fixed number of elements, e.g., `x = [1, 2, 3]`. Note the square brackets. `x = [\"Lord\", \"of\", \"the\", \"Rings\"]`"
   ]
  },
  {
   "cell_type": "markdown",
   "metadata": {
    "slideshow": {
     "slide_type": "slide"
    }
   },
   "source": [
    "<a id='if_else_statements'></a>\n",
    "\n",
    "# `if… else` Statements\n",
    "\n",
    "---\n",
    "\n",
    "In Python, **indentation matters**! This is especially true when we look at the control structures in this lesson. In each case, a block of indented code is only sometimes run. There will always be a condition in the line preceding the indented block that determines whether the indented code is run or skipped.\n",
    "\n",
    "#### `if` Statement\n",
    "\n",
    "The simplest example of a control structure is the `if` statement."
   ]
  },
  {
   "cell_type": "code",
   "execution_count": null,
   "metadata": {
    "slideshow": {
     "slide_type": "fragment"
    }
   },
   "outputs": [],
   "source": [
    "if 1 == 1:\n",
    "    print('The integer 1 is equal to the integer 1.')\n",
    "    print('Is the next indented line run, too?')"
   ]
  },
  {
   "cell_type": "code",
   "execution_count": null,
   "metadata": {
    "slideshow": {
     "slide_type": "subslide"
    }
   },
   "outputs": [],
   "source": [
    "if 'one' == 'two':\n",
    "    print(\"The string 'one' is equal to the string 'two'.\")\n",
    "\n",
    "print('---')\n",
    "print('These two lines are not indented, so they are always run next.')"
   ]
  },
  {
   "cell_type": "markdown",
   "metadata": {
    "slideshow": {
     "slide_type": "skip"
    }
   },
   "source": [
    "Notice that, in Python, the line before every indented block must end with a colon (`:`). In fact, it turns out that the `if` statement has a very specific syntax.\n",
    "\n",
    "```if <expression>:\n",
    "    <one or more indented lines>```\n",
    "\n",
    "When the `if` statement is run, the expression is evaluated to `True` or `False` by applying the built-in `bool()` function to it. If the expression evaluates to `True`, the code block is run; otherwise, it is skipped.\n",
    "\n",
    "#### `if` ... `else`\n",
    "\n",
    "In many cases, you may want to run some code if the expression evaluates to `True` and some different code if it evaluates to `False`. This is done using `else`. Note how it is at the same indentation level as the `if` statement, followed by a colon, followed by a code block. Let's see it in action."
   ]
  },
  {
   "cell_type": "markdown",
   "metadata": {
    "slideshow": {
     "slide_type": "subslide"
    }
   },
   "source": [
    "What will this code print?\n",
    "\n",
    "```python\n",
    "if 50 < 30:\n",
    "    print(\"50 < 30.\")\n",
    "else:\n",
    "    print(\"50 >= 30.\")\n",
    "    print(\"The else code block was run instead of the first block.\")\n",
    "\n",
    "print('---')\n",
    "print('These two lines are not indented, so they are always run next.')\n",
    "```"
   ]
  },
  {
   "cell_type": "code",
   "execution_count": null,
   "metadata": {
    "slideshow": {
     "slide_type": "subslide"
    }
   },
   "outputs": [],
   "source": [
    "if 50 < 30:\n",
    "    print(\"50 < 30.\")\n",
    "else:\n",
    "    print(\"50 >= 30.\")\n",
    "    print(\"The else code block was run instead of the first block.\")\n",
    "\n",
    "print('---')\n",
    "print('These two lines are not indented, so they are always run next.')"
   ]
  },
  {
   "cell_type": "markdown",
   "metadata": {
    "slideshow": {
     "slide_type": "subslide"
    }
   },
   "source": [
    "#### `if` ... `elif` ... `else`\n",
    "\n",
    "Sometimes, you might want to run one specific code block out of several. For example, perhaps we provide the user with three choices and want something different to happen with each one.\n",
    "\n",
    "`elif` stands for `else if`. It belongs on a line between the initial `if` statement and an (optional) `else`. "
   ]
  },
  {
   "cell_type": "markdown",
   "metadata": {
    "slideshow": {
     "slide_type": "subslide"
    }
   },
   "source": [
    "What will this print?\n",
    "\n",
    "```python\n",
    "health = 55\n",
    "\n",
    "if health > 70:\n",
    "    print('You are in great health!')\n",
    "elif health > 40:\n",
    "    print('Your health is average.')\n",
    "    print('Exercise and eat healthily!')\n",
    "else:\n",
    "    print('Your health is low.')\n",
    "    print('Please see a doctor now.')\n",
    "\n",
    "print('---')\n",
    "print('These two lines are not indented, so they are always run next.')\n",
    "```"
   ]
  },
  {
   "cell_type": "code",
   "execution_count": null,
   "metadata": {
    "slideshow": {
     "slide_type": "subslide"
    }
   },
   "outputs": [],
   "source": [
    "health = 55\n",
    "\n",
    "if health > 70:\n",
    "    print('You are in great health!')\n",
    "elif health > 40:\n",
    "    print('Your health is average.')\n",
    "    print('Exercise and eat healthily!')\n",
    "else:\n",
    "    print('Your health is low.')\n",
    "    print('Please see a doctor now.')\n",
    "\n",
    "print('---')\n",
    "print('These two lines are not indented, so they are always run next.')"
   ]
  },
  {
   "cell_type": "markdown",
   "metadata": {
    "slideshow": {
     "slide_type": "subslide"
    }
   },
   "source": [
    "---\n",
    "<a id='for_loops'></a>\n",
    "# `for` Loops\n",
    "\n",
    "\n",
    "One of the primary purposes of using a programming language is to automate repetitive tasks. One such means in Python is the `for` loop.\n",
    "\n",
    "The `for` loop allows you to perform a task repeatedly on every element within an object, such as every name in a list.\n",
    "\n",
    "\n",
    "Let's see how the pseudocode works:\n",
    "\n",
    "```python\n",
    "# For each individual object in the list\n",
    "    # perform task_A on said object.\n",
    "    # Once task_A has been completed, move to next object in the list.\n",
    "```\n",
    "\n",
    "Let's say we wanted to print each of the names in the list, as well as \"is awesome!\""
   ]
  },
  {
   "cell_type": "code",
   "execution_count": null,
   "metadata": {
    "slideshow": {
     "slide_type": "fragment"
    }
   },
   "outputs": [],
   "source": [
    "people = ['Alex', 'Brian', 'Catherine']\n",
    "\n",
    "for person in people:\n",
    "    print(person + ' is awesome!')"
   ]
  },
  {
   "cell_type": "markdown",
   "metadata": {
    "slideshow": {
     "slide_type": "subslide"
    }
   },
   "source": [
    "This process of cycling through a list item by item is known as \"iteration.\" \n",
    "\n",
    "One useful thing you can do is iterate through a list and track both the **items** as well as their **indices**, using `enumerate`.\n",
    "\n",
    "Notice how we have **two** variables in between `for` and `in` to keep track of two things simultaneously. This is the same as how we **unpacked tuples** earlier!"
   ]
  },
  {
   "cell_type": "code",
   "execution_count": null,
   "metadata": {
    "slideshow": {
     "slide_type": "fragment"
    }
   },
   "outputs": [],
   "source": [
    "my_numbers = [100, 200, 300, 400, 500, 666]\n",
    "\n",
    "for idx, num in enumerate(my_numbers):\n",
    "    print(f\"The number at index {idx} is {num}\")"
   ]
  },
  {
   "cell_type": "markdown",
   "metadata": {
    "slideshow": {
     "slide_type": "subslide"
    }
   },
   "source": [
    "**Dictionaries**: An unordered collection of key-value pairs, e.g., `x = {'Mark': 'Twain', 'Apples': 5}`. To retrieve each value (the part after each colon), use its key (the part before each colon). For example, `x['Apples']` retrieves the value 5."
   ]
  }
 ],
 "metadata": {
  "anaconda-cloud": {},
  "celltoolbar": "Slideshow",
  "kernelspec": {
   "display_name": "Python 3",
   "language": "python",
   "name": "python3"
  },
  "language_info": {
   "codemirror_mode": {
    "name": "ipython",
    "version": 3
   },
   "file_extension": ".py",
   "mimetype": "text/x-python",
   "name": "python",
   "nbconvert_exporter": "python",
   "pygments_lexer": "ipython3",
   "version": "3.6.8"
  }
 },
 "nbformat": 4,
 "nbformat_minor": 1
}
