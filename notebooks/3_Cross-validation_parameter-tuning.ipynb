{
 "cells": [
  {
   "cell_type": "code",
   "execution_count": null,
   "metadata": {
    "colab": {},
    "colab_type": "code",
    "id": "76vFmUa3pDZp"
   },
   "outputs": [],
   "source": [
    "import pandas as pd\n",
    "import numpy as np\n",
    "\n",
    "import matplotlib.pyplot as plt\n",
    "plt.style.use('seaborn-whitegrid')\n",
    "\n",
    "from sklearn import preprocessing"
   ]
  },
  {
   "cell_type": "markdown",
   "metadata": {},
   "source": [
    "### Data pre-processing\n",
    "\n",
    "Only alter the data pre-processing code if you have completed the challenge for that section."
   ]
  },
  {
   "cell_type": "code",
   "execution_count": null,
   "metadata": {
    "colab": {},
    "colab_type": "code",
    "id": "dMaxPvA4n9W_"
   },
   "outputs": [],
   "source": [
    "# The data URI\n",
    "csv_file_uri = \"https://archive.ics.uci.edu/ml/machine-learning-databases/adult/adult.data\"\n",
    "\n",
    "column_names = [\n",
    "    \"age\", \"workclass\", \"fnlwgt\", \"education\", \"education-num\", \"marital-status\",\n",
    "    \"occupation\", \"relationship\", \"race\", \"sex\", \"capital-gain\", \"capital-loss\",\n",
    "    \"hours-per-week\", \"native-country\", \"target\"\n",
    "]\n",
    "\n",
    "\n",
    "data_original = pd.read_csv(csv_file_uri, names=column_names, index_col=False)\n",
    "\n",
    "USE_LABEL_ENCODER = False\n",
    "\n",
    "\n",
    "if USE_LABEL_ENCODER:\n",
    "\n",
    "    # Make a copy so that we always have the original data to refer to\n",
    "    data = data_original.copy(deep=True)\n",
    "\n",
    "    # Drop the US weights (don't have any value)\n",
    "    data.drop([\"fnlwgt\"], axis=1, inplace=True)\n",
    "\n",
    "    # Create a function that changes the text to a simple binary value\n",
    "    def convert_target_variable(text):\n",
    "        if text == \" <=50K\":\n",
    "            return 0\n",
    "        else:\n",
    "            return 1\n",
    "\n",
    "    data[\"target\"] = data.target.apply(convert_target_variable)\n",
    "\n",
    "    encoded_columns = []\n",
    "    for c in data.columns:\n",
    "        if data[c].dtype == \"object\":\n",
    "            if \"{}_encoded\".format(c) not in data.columns:\n",
    "                encoder = preprocessing.LabelEncoder()\n",
    "                data[\"{}_encoded\".format(c)] = encoder.fit_transform(data[c].values)\n",
    "                encoded_columns.append(c)\n",
    "                encoder = None\n",
    "            else:\n",
    "                print(\"{}_encoded already exists\".format(c))\n",
    "\n",
    "    print(\"Dropping the encoded columns {}\".format(encoded_columns))\n",
    "    data.drop(encoded_columns, axis=1, inplace=True)\n",
    "    \n",
    "else:\n",
    "    \n",
    "    # Make a copy so that we always have the original data to refer to\n",
    "    data_pre_dummies = data_original.copy(deep=True)\n",
    "\n",
    "    # Drop the US weights (don't have any value)\n",
    "    data_pre_dummies.drop([\"fnlwgt\"], axis=1, inplace=True)\n",
    "    \n",
    "    data = pd.get_dummies(data_pre_dummies)\n",
    "\n",
    "    # Deletes the original column in this dataframe.\n",
    "    data.drop([\"target_ <=50K\"], axis=1, inplace=True)\n",
    "\n",
    "    # Rename the target\n",
    "    data.rename(columns={'target_ >50K': 'target' }, inplace=True)"
   ]
  },
  {
   "cell_type": "markdown",
   "metadata": {},
   "source": [
    "---\n",
    "### Model\n",
    "\n",
    "This is the moment we can use the new, numerical, data to plug it into pretty much any classification model. First we'll convert the data to a matrix with our features - that is the data that we want to use to predict from - and an array with our labels - the target variable that indicates if someone makes more than 50k or not."
   ]
  },
  {
   "cell_type": "code",
   "execution_count": null,
   "metadata": {
    "colab": {},
    "colab_type": "code",
    "id": "U8qcZVFMybnT"
   },
   "outputs": [],
   "source": [
    "feature_columns = data.columns.tolist()\n",
    "feature_columns.remove(\"target\")"
   ]
  },
  {
   "cell_type": "code",
   "execution_count": null,
   "metadata": {
    "colab": {
     "base_uri": "https://localhost:8080/",
     "height": 51
    },
    "colab_type": "code",
    "id": "6PKvkNxwMyPN",
    "outputId": "6f68ba5a-9170-49e9-bf8e-28827170fc64"
   },
   "outputs": [],
   "source": [
    "X = data[feature_columns].values\n",
    "y = data[\"target\"].values"
   ]
  },
  {
   "cell_type": "markdown",
   "metadata": {},
   "source": [
    "Lets use a model from **scikit-learn**: LogisticRegression\n",
    "\n",
    "For those interested in the [documentation](http://scikit-learn.org/stable/modules/generated/sklearn.linear_model.LogisticRegression.html#sklearn.linear_model.LogisticRegression)"
   ]
  },
  {
   "cell_type": "code",
   "execution_count": null,
   "metadata": {
    "colab": {},
    "colab_type": "code",
    "id": "-XhqqOU0wfJv"
   },
   "outputs": [],
   "source": [
    "from sklearn import linear_model\n",
    "\n",
    "# Create linear regression object\n",
    "clf = linear_model.LogisticRegression()\n",
    "\n",
    "# MAGIC\n",
    "# \n",
    "# Train the model using the training sets\n",
    "clf.fit(X, y)"
   ]
  },
  {
   "cell_type": "code",
   "execution_count": null,
   "metadata": {},
   "outputs": [],
   "source": [
    "# Make predictions using the testing set. \n",
    "# For now we'll use the last value of the training set.\n",
    "pred = clf.predict(X[-1,:].reshape(1,-1))\n",
    "\n",
    "# Print the data \n",
    "print(data_original.iloc[data_original.index[-1]])\n",
    "\n",
    "# and the prediction\n",
    "print(\"\\nPredict its a {}\".format(pred))\n",
    "\n",
    "probability = clf.predict_proba(X[-1,:].reshape(1,-1))\n",
    "print(\"\\nWith a probability of {}\".format(probability[0,pred[0]]))\n",
    "\n",
    "# How good is the model by evaluating it \n",
    "# on the training set\n",
    "print(\"\\nThis model has an overall accuracy of {}\".format(clf.score(X, y)))"
   ]
  },
  {
   "cell_type": "code",
   "execution_count": null,
   "metadata": {},
   "outputs": [],
   "source": [
    "mean_coef = clf.coef_[0].mean()\n",
    "std_coef = clf.coef_[0].std()\n",
    "max_coef = clf.coef_[0].max()\n",
    "min_coef = clf.coef_[0].min()\n",
    "\n",
    "# Pretty print with the column names\n",
    "for ix, c in enumerate(feature_columns):\n",
    "    # I am only going to print the coefficients that are very extreme\n",
    "    # (i.e., close to the min/max)\n",
    "    # lets get the variables in a handy way\n",
    "    this_coef = clf.coef_[0][ix]\n",
    "    if abs((this_coef-mean_coef)/std_coef) > 1.5:\n",
    "        print(\"Column {} is {}\".format(c, clf.coef_[0][ix]))"
   ]
  },
  {
   "cell_type": "markdown",
   "metadata": {},
   "source": [
    "**The above is incredibly bad practice (up to the point where I should be fired for even showing you). Why?**"
   ]
  },
  {
   "cell_type": "markdown",
   "metadata": {
    "colab": {},
    "colab_type": "code",
    "id": "POUwYLbqUI4p"
   },
   "source": [
    "### Exercise: Implement/Annotate Cross Validation"
   ]
  },
  {
   "cell_type": "code",
   "execution_count": null,
   "metadata": {},
   "outputs": [],
   "source": [
    "from sklearn.model_selection import train_test_split"
   ]
  },
  {
   "cell_type": "code",
   "execution_count": null,
   "metadata": {},
   "outputs": [],
   "source": [
    "# Create a training and a testing group.\n",
    "X_train, X_test, y_train, y_test = train_test_split(X, y, test_size=0.3)\n",
    "\n",
    "# Train the model on the training set\n",
    "clf = None\n",
    "clf = linear_model.LogisticRegression()\n",
    "clf.fit(X_train, y_train)\n",
    "\n",
    "# Predict on the train, test set and compare the results\n",
    "accuracy_train = clf.score(X_train, y_train)\n",
    "accuracy_test = clf.score(X_test, y_test)\n",
    "print(\"- This model training accuracy of {}\".format(accuracy_train))\n",
    "print(\"- This model testing accuracy of {}\".format(accuracy_test))\n",
    "print(\"- The ratio is {}\".format(accuracy_test/accuracy_train))"
   ]
  },
  {
   "cell_type": "code",
   "execution_count": null,
   "metadata": {},
   "outputs": [],
   "source": [
    "accuracies_train = []\n",
    "accuracies_test = []\n",
    "\n",
    "# Cross validation in a loop.\n",
    "for i in range(25):\n",
    "    \n",
    "    # Create a training and a testing group.\n",
    "    X_train, X_test, y_train, y_test = train_test_split(X, y, test_size=0.33)\n",
    "\n",
    "    # Train the model on the training set\n",
    "    clf = None\n",
    "    clf = linear_model.LogisticRegression()\n",
    "    clf.fit(X_train, y_train)\n",
    "\n",
    "    # Predict on the train, test set and compare the results\n",
    "    accuracies_train.append(clf.score(X_train, y_train))\n",
    "    accuracies_test.append(clf.score(X_test, y_test))\n",
    "\n",
    "assert len(accuracies_train) == len(accuracies_test)\n",
    "plt.figure(figsize=(16,5))\n",
    "plt.plot(range(len(accuracies_train)), accuracies_train, label='Train')\n",
    "plt.plot(range(len(accuracies_test)), accuracies_test, label='Test')\n",
    "plt.ylim(0.8,1.0)\n",
    "plt.legend(loc='upper left')"
   ]
  },
  {
   "cell_type": "markdown",
   "metadata": {
    "colab": {},
    "colab_type": "code",
    "id": "etjDIiUEUJOt"
   },
   "source": [
    "### Challenge: Parameter tuning\n",
    "\n",
    "Logistic Regression: [docs](http://scikit-learn.org/stable/auto_examples/linear_model/plot_logistic_l1_l2_sparsity.html#sphx-glr-auto-examples-linear-model-plot-logistic-l1-l2-sparsity-py)"
   ]
  },
  {
   "cell_type": "code",
   "execution_count": null,
   "metadata": {},
   "outputs": [],
   "source": [
    "# There are three hyper-parameters in Logistic Regression you can change:\n",
    "# C, penalty and tol (tolerance)\n",
    "\n",
    "# See the docs above to change them.\n",
    "\n",
    "# The challenge is to test a number of different hyper parameters and find a set\n",
    "# that performs better than the default values"
   ]
  },
  {
   "cell_type": "code",
   "execution_count": null,
   "metadata": {},
   "outputs": [],
   "source": [
    "plt.figure(figsize=(16,10))\n",
    "\n",
    "C_set = [1,100,1000]\n",
    "penalty_set = ['l1', 'l2']\n",
    "\n",
    "ctr = 1\n",
    "for ix,C_param in enumerate(C_set):\n",
    "    for jx,penalty_param in enumerate(penalty_set):\n",
    "        \n",
    "        accuracies_train = []\n",
    "        accuracies_test = []\n",
    "        \n",
    "        # Cross validation in a loop.\n",
    "        for i in range(25):\n",
    "\n",
    "            # Create a training and a testing group.\n",
    "            X_train, X_test, y_train, y_test = train_test_split(X, y, test_size=0.33)\n",
    "\n",
    "            # Train the model on the training set\n",
    "            clf = None\n",
    "            clf = linear_model.LogisticRegression(C=C_param, penalty=penalty_param)\n",
    "            clf.fit(X_train, y_train)\n",
    "\n",
    "            # Predict on the train, test set and compare the results\n",
    "            accuracies_train.append(clf.score(X_train, y_train))\n",
    "            accuracies_test.append(clf.score(X_test, y_test))\n",
    "            \n",
    "        plt.subplot(len(C_set),len(penalty_set),ctr)\n",
    "        ctr += 1\n",
    "        assert len(accuracies_train) == len(accuracies_test)\n",
    "        plt.plot(range(len(accuracies_train)), accuracies_train, label='Train')\n",
    "        plt.plot(range(len(accuracies_test)), accuracies_test, label='Test')\n",
    "        plt.ylim(0.8,1.0)\n",
    "        plt.legend(loc='upper left')\n",
    "        plt.title(\"C({}), Penalty({})\".format(C_param, penalty_param))"
   ]
  },
  {
   "cell_type": "code",
   "execution_count": null,
   "metadata": {},
   "outputs": [],
   "source": []
  },
  {
   "cell_type": "code",
   "execution_count": null,
   "metadata": {},
   "outputs": [],
   "source": []
  }
 ],
 "metadata": {
  "colab": {
   "name": "Data-processing.ipynb",
   "provenance": [],
   "version": "0.3.2"
  },
  "kernelspec": {
   "display_name": "Python 3",
   "language": "python",
   "name": "python3"
  },
  "language_info": {
   "codemirror_mode": {
    "name": "ipython",
    "version": 3
   },
   "file_extension": ".py",
   "mimetype": "text/x-python",
   "name": "python",
   "nbconvert_exporter": "python",
   "pygments_lexer": "ipython3",
   "version": "3.6.5"
  }
 },
 "nbformat": 4,
 "nbformat_minor": 1
}
