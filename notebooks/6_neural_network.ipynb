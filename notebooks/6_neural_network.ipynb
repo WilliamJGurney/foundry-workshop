{
 "cells": [
  {
   "cell_type": "markdown",
   "metadata": {
    "colab_type": "text",
    "id": "MIf7Zaubrepb"
   },
   "source": [
    "# Tensorflow\n",
    "\n",
    "Example code can de found [here](https://github.com/aymericdamien/TensorFlow-Examples/blob/master/examples/3_NeuralNetworks/multilayer_perceptron.py) and [here](https://github.com/Hvass-Labs/TensorFlow-Tutorials/blob/master/01_Simple_Linear_Model.ipynb)\n",
    "\n",
    "To play around with a visual neural network see the [TensorFlow Playground](https://playground.tensorflow.org/#activation=tanh&batchSize=10&dataset=circle&regDataset=reg-plane&learningRate=0.001&regularizationRate=0&noise=0&networkShape=6,2&seed=0.40070&showTestData=false&discretize=false&percTrainData=50&x=true&y=true&xTimesY=false&xSquared=false&ySquared=false&cosX=false&sinX=false&cosY=false&sinY=false&collectStats=false&problem=classification&initZero=false&hideText=false)"
   ]
  },
  {
   "cell_type": "code",
   "execution_count": null,
   "metadata": {
    "colab": {
     "base_uri": "https://localhost:8080/",
     "height": 191
    },
    "colab_type": "code",
    "id": "8VrS7olvWHHZ",
    "outputId": "5e7ace52-5031-404c-d2fd-539bad6554ff"
   },
   "outputs": [],
   "source": [
    "from sklearn.datasets import fetch_mldata\n",
    "mnist = fetch_mldata('MNIST original')\n",
    "\n",
    "mnist"
   ]
  },
  {
   "cell_type": "code",
   "execution_count": null,
   "metadata": {
    "colab": {
     "base_uri": "https://localhost:8080/",
     "height": 365
    },
    "colab_type": "code",
    "id": "r-D59du_C8Tq",
    "outputId": "a2e46e92-b361-4ed4-a293-f26d71456cd1"
   },
   "outputs": [],
   "source": [
    "import matplotlib.pyplot as plt\n",
    "\n",
    "plt.imshow(mnist.data[0].reshape((28,28)))"
   ]
  },
  {
   "cell_type": "code",
   "execution_count": null,
   "metadata": {
    "colab": {
     "base_uri": "https://localhost:8080/",
     "height": 35
    },
    "colab_type": "code",
    "id": "65yHOEmAoMUv",
    "outputId": "a1e220a0-9936-48da-8d2b-ca6009e98fa1"
   },
   "outputs": [],
   "source": [
    "mnist.data.shape"
   ]
  },
  {
   "cell_type": "code",
   "execution_count": null,
   "metadata": {
    "colab": {
     "base_uri": "https://localhost:8080/",
     "height": 35
    },
    "colab_type": "code",
    "id": "QUOzcsFXoMXP",
    "outputId": "98e3baae-2beb-43c2-a34f-4948143fcd40"
   },
   "outputs": [],
   "source": [
    "mnist.data.max()"
   ]
  },
  {
   "cell_type": "code",
   "execution_count": null,
   "metadata": {
    "colab": {},
    "colab_type": "code",
    "id": "hL2S7b61MS-C"
   },
   "outputs": [],
   "source": [
    "from sklearn.model_selection import train_test_split\n",
    "\n",
    "randperm = np.random.permutation(mnist.data.shape[0])\n",
    "\n",
    "X_full = mnist.data[randperm,:] / 255.0\n",
    "y_full = [ int(d) for d in mnist.target[randperm] ]\n",
    "\n",
    "X, X_test, y, y_test = train_test_split(X_full, y_full, test_size=0.33)"
   ]
  },
  {
   "cell_type": "code",
   "execution_count": null,
   "metadata": {
    "colab": {},
    "colab_type": "code",
    "id": "38lYHkR8ozEa"
   },
   "outputs": [],
   "source": [
    "n_hidden_1 = 32 # 1st layer number of neurons\n",
    "n_hidden_2 = 24 # 2nd layer number of neurons\n",
    "n_input = X.shape[1] # MNIST data input (img shape: 28*28)\n",
    "n_classes = np.max(y) + 1 # MNIST total classes (0-9 digits)\n",
    "\n",
    "learning_rate = 0.001\n",
    "training_epochs = 100"
   ]
  },
  {
   "cell_type": "code",
   "execution_count": null,
   "metadata": {
    "colab": {},
    "colab_type": "code",
    "id": "6-PF7BvsoeP-"
   },
   "outputs": [],
   "source": [
    "import tensorflow as tf"
   ]
  },
  {
   "cell_type": "code",
   "execution_count": null,
   "metadata": {
    "colab": {},
    "colab_type": "code",
    "id": "EE2X3qqdoeSp"
   },
   "outputs": [],
   "source": []
  },
  {
   "cell_type": "code",
   "execution_count": null,
   "metadata": {
    "colab": {},
    "colab_type": "code",
    "id": "uG2EQVvUpG9U"
   },
   "outputs": [],
   "source": []
  },
  {
   "cell_type": "code",
   "execution_count": null,
   "metadata": {
    "colab": {},
    "colab_type": "code",
    "id": "FxwD_08xp9y1"
   },
   "outputs": [],
   "source": [
    "tf.reset_default_graph()\n",
    "\n",
    "x = tf.placeholder(tf.float32, [None, n_input])\n",
    "y_true_cls = tf.placeholder(tf.int64, [None])\n",
    "# One hot encoding for Y\n",
    "y_true = tf.one_hot(y_true_cls, n_classes)\n",
    "\n",
    "\n",
    "# Create the weights/biases\n",
    "weights = {\n",
    "    'h1': tf.Variable(tf.random_normal([n_input, n_hidden_1])),\n",
    "    'h2': tf.Variable(tf.random_normal([n_hidden_1, n_hidden_2])),\n",
    "    'out': tf.Variable(tf.random_normal([n_hidden_2, n_classes]))\n",
    "}\n",
    "biases = {\n",
    "    'b1': tf.Variable(tf.random_normal([n_hidden_1])),\n",
    "    'b2': tf.Variable(tf.random_normal([n_hidden_2])),\n",
    "    'out': tf.Variable(tf.random_normal([n_classes]))\n",
    "}\n",
    "\n",
    "\n",
    "# Hidden fully connected layer with 256 neurons\n",
    "layer_1 = tf.add(tf.matmul(x, weights['h1']), biases['b1'])\n",
    "\n",
    "# Hidden fully connected layer with 256 neurons\n",
    "layer_2 = tf.add(tf.matmul(layer_1, weights['h2']), biases['b2'])\n",
    "\n",
    "# Output fully connected layer with a neuron for each class\n",
    "out_layer = tf.matmul(layer_2, weights['out']) + biases['out']\n",
    "\n",
    "\n",
    "# Define loss and optimizer\n",
    "loss_op = tf.reduce_mean(tf.nn.softmax_cross_entropy_with_logits(\n",
    "    logits=out_layer, labels=y_true))\n",
    "\n",
    "# Try different optimizers - https://www.tensorflow.org/api_guides/python/train#Optimizers\n",
    "optimizer = tf.train.AdamOptimizer(learning_rate=learning_rate)\n",
    "\n",
    "train_op = optimizer.minimize(loss_op)\n",
    "\n",
    "\n",
    "init = tf.global_variables_initializer()"
   ]
  },
  {
   "cell_type": "code",
   "execution_count": null,
   "metadata": {
    "colab": {
     "base_uri": "https://localhost:8080/",
     "height": 903
    },
    "colab_type": "code",
    "id": "z64EqtbNqoEY",
    "outputId": "f821743c-3d11-4ed9-bea0-78f91a4f8968"
   },
   "outputs": [],
   "source": [
    "with tf.Session() as sess:\n",
    "    \n",
    "    sess.run(init)\n",
    "\n",
    "    # Training cycle\n",
    "    for epoch in range(training_epochs):\n",
    "        \n",
    "        batch_size = 50\n",
    "        for i in range(int(X.shape[0]/batch_size)):\n",
    "          this_X = X[i*batch_size:(i+1)*batch_size,:]\n",
    "          this_y = y[i*batch_size:(i+1)*batch_size]\n",
    "          _, c = sess.run([train_op, loss_op], feed_dict={x: this_X, y_true_cls: this_y })\n",
    "        \n",
    "        # Display logs per epoch step\n",
    "        if epoch % 10 == 0:\n",
    "            print(\"Epoch:\", '%04d' % (epoch+1), \"cost={:.9f}\".format(c))\n",
    "    \n",
    "    print(\"Optimization Finished!\")\n",
    "\n",
    "    # Test model\n",
    "    pred = tf.nn.softmax(out_layer)  # Apply softmax to logits\n",
    "    correct_prediction = tf.equal(tf.argmax(pred, 1), tf.argmax(y_true, 1))\n",
    "    # Calculate accuracy\n",
    "    accuracy = tf.reduce_mean(tf.cast(correct_prediction, \"float\"))\n",
    "    print(\"Train Accuracy:\", accuracy.eval({ x: X, y_true_cls: y }))\n",
    "    print(\"Test Accuracy:\", accuracy.eval({ x: X_test, y_true_cls: y_test }))\n",
    "    \n",
    "    weights_one = sess.run(weights[\"h1\"])\n",
    "    plt.imshow(X[0,:].reshape(28,28))\n",
    "    plt.show()\n",
    "    \n",
    "    # To visualise the FIRST neuron in the FIRST layer\n",
    "    plt.imshow( weights_one[:,0].reshape(28,28) )"
   ]
  },
  {
   "cell_type": "code",
   "execution_count": null,
   "metadata": {
    "colab": {},
    "colab_type": "code",
    "id": "sQBgp6c2I1BV"
   },
   "outputs": [],
   "source": []
  }
 ],
 "metadata": {
  "colab": {
   "collapsed_sections": [],
   "name": "logistic-regression-manual.ipynb",
   "provenance": [],
   "version": "0.3.2"
  },
  "kernelspec": {
   "display_name": "Python 3",
   "language": "python",
   "name": "python3"
  },
  "language_info": {
   "codemirror_mode": {
    "name": "ipython",
    "version": 3
   },
   "file_extension": ".py",
   "mimetype": "text/x-python",
   "name": "python",
   "nbconvert_exporter": "python",
   "pygments_lexer": "ipython3",
   "version": "3.6.5"
  }
 },
 "nbformat": 4,
 "nbformat_minor": 1
}
