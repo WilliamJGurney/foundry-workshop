{
 "cells": [
  {
   "cell_type": "code",
   "execution_count": null,
   "metadata": {
    "colab": {},
    "colab_type": "code",
    "id": "76vFmUa3pDZp"
   },
   "outputs": [],
   "source": [
    "import pandas as pd"
   ]
  },
  {
   "cell_type": "code",
   "execution_count": null,
   "metadata": {
    "colab": {},
    "colab_type": "code",
    "id": "dMaxPvA4n9W_"
   },
   "outputs": [],
   "source": [
    "# The data URI\n",
    "csv_file_uri = \"https://archive.ics.uci.edu/ml/machine-learning-databases/adult/adult.data\""
   ]
  },
  {
   "cell_type": "markdown",
   "metadata": {
    "colab_type": "text",
    "id": "Kdq_GAH9RiBQ"
   },
   "source": [
    "### Data overview\n",
    "\n",
    "```\n",
    ">50K, <=50K.\n",
    "\n",
    "age: continuous.\n",
    "workclass: Private, Self-emp-not-inc, Self-emp-inc, Federal-gov, Local-gov, State-gov, Without-pay, Never-worked.\n",
    "fnlwgt: continuous.\n",
    "education: Bachelors, Some-college, 11th, HS-grad, Prof-school, Assoc-acdm, Assoc-voc, 9th, 7th-8th, 12th, Masters, 1st-4th, 10th, Doctorate, 5th-6th, Preschool.\n",
    "education-num: continuous.\n",
    "marital-status: Married-civ-spouse, Divorced, Never-married, Separated, Widowed, Married-spouse-absent, Married-AF-spouse.\n",
    "occupation: Tech-support, Craft-repair, Other-service, Sales, Exec-managerial, Prof-specialty, Handlers-cleaners, Machine-op-inspct, Adm-clerical, Farming-fishing, Transport-moving, Priv-house-serv, Protective-serv, Armed-Forces.\n",
    "relationship: Wife, Own-child, Husband, Not-in-family, Other-relative, Unmarried.\n",
    "race: White, Asian-Pac-Islander, Amer-Indian-Eskimo, Other, Black.\n",
    "sex: Female, Male.\n",
    "capital-gain: continuous.\n",
    "capital-loss: continuous.\n",
    "hours-per-week: continuous.\n",
    "native-country: United-States, Cambodia, England, Puerto-Rico, Canada, Germany, Outlying-US(Guam-USVI-etc), India, Japan, Greece, South, China, Cuba, Iran, Honduras, Philippines, Italy, Poland, Jamaica, Vietnam, Mexico, Portugal, Ireland, France, Dominican-Republic, Laos, Ecuador, Taiwan, Haiti, Columbia, Hungary, Guatemala, Nicaragua, Scotland, Thailand, Yugoslavia, El-Salvador, Trinadad&Tobago, Peru, Hong, Holand-Netherlands.\n",
    "```"
   ]
  },
  {
   "cell_type": "markdown",
   "metadata": {},
   "source": [
    "Loading the data"
   ]
  },
  {
   "cell_type": "code",
   "execution_count": null,
   "metadata": {
    "colab": {
     "base_uri": "https://localhost:8080/",
     "height": 193
    },
    "colab_type": "code",
    "id": "LbX0gLhqoQ6u",
    "outputId": "503a0a48-99c1-4f86-fc73-63509ff1981f"
   },
   "outputs": [],
   "source": [
    "column_names = [\n",
    "    \"age\", \"workclass\", \"fnlwgt\", \"education\", \"education-num\", \"marital-status\",\n",
    "    \"occupation\", \"relationship\", \"race\", \"sex\", \"capital-gain\", \"capital-loss\",\n",
    "    \"hours-per-week\", \"native-country\", \"target\"\n",
    "]\n",
    "\n",
    "\n",
    "data_original = pd.read_csv(csv_file_uri, names=column_names, index_col=False)\n",
    "# Make a copy so that we always have the original data to refer to\n",
    "data = data_original.copy(deep=True)\n",
    "# Drop the US weights (don't have any value)\n",
    "data.drop([\"fnlwgt\"], axis=1, inplace=True)\n",
    "\n",
    "# Show the head rows of the table at this stage.\n",
    "data.head(3)"
   ]
  },
  {
   "cell_type": "code",
   "execution_count": null,
   "metadata": {
    "colab": {
     "base_uri": "https://localhost:8080/",
     "height": 34
    },
    "colab_type": "code",
    "id": "9HkQGhD2LFrO",
    "outputId": "b01096e4-47cf-46e4-c10e-12beaeed0e12"
   },
   "outputs": [],
   "source": [
    "# How big is the dataset?\n",
    "data.shape"
   ]
  },
  {
   "cell_type": "markdown",
   "metadata": {},
   "source": [
    "The variable we want to predict for classification is the **target**. The problem now is that it is text and we can not work with text in most models.\n",
    "\n",
    "Here is one way to change a column in a pandas dataframe (using the `apply` method)"
   ]
  },
  {
   "cell_type": "code",
   "execution_count": null,
   "metadata": {
    "colab": {
     "base_uri": "https://localhost:8080/",
     "height": 193
    },
    "colab_type": "code",
    "id": "2vI_WGCLqWxY",
    "outputId": "aa1ed75c-81e9-4777-fca2-b903f4ee3004"
   },
   "outputs": [],
   "source": [
    "# Create a function that changes the text to a simple binary value\n",
    "def convert_target_variable(text):\n",
    "    if text == \" <=50K\":\n",
    "        return 0\n",
    "    else:\n",
    "        return 1\n",
    "\n",
    "data[\"target\"] = data.target.apply(convert_target_variable)\n",
    "\n",
    "data.head(3)"
   ]
  },
  {
   "cell_type": "code",
   "execution_count": null,
   "metadata": {
    "colab": {
     "base_uri": "https://localhost:8080/",
     "height": 68
    },
    "colab_type": "code",
    "id": "4jrDCvZArtrB",
    "outputId": "7b469f02-c068-4d9e-9ad2-5d7243d72625"
   },
   "outputs": [],
   "source": [
    "# To check how many people make less than 50k and how many make more\n",
    "data.target.value_counts()"
   ]
  },
  {
   "cell_type": "markdown",
   "metadata": {},
   "source": [
    "### Data Preprocessing\n",
    "\n",
    "At this point we have a big problem with our data. Algorithms (most of them) can only handle data (as they rely on mathematics). For this reason we need to get rid of any column that is a text variable and change it to a numerical one.\n",
    "\n",
    "You can use one of many classes from the machine learning toolkit **scikit-learn**"
   ]
  },
  {
   "cell_type": "code",
   "execution_count": null,
   "metadata": {
    "colab": {},
    "colab_type": "code",
    "id": "34SBbOZFqyqW"
   },
   "outputs": [],
   "source": [
    "from sklearn import preprocessing"
   ]
  },
  {
   "cell_type": "code",
   "execution_count": null,
   "metadata": {
    "colab": {
     "base_uri": "https://localhost:8080/",
     "height": 210
    },
    "colab_type": "code",
    "id": "iymS30dMq0Vk",
    "outputId": "8d523f85-912e-4b42-d980-893ef4eba224"
   },
   "outputs": [],
   "source": [
    "encoder = preprocessing.LabelEncoder()\n",
    "\n",
    "data[\"race_encoded\"] = encoder.fit_transform(data.race.values)\n",
    "data.drop([\"race\"], axis=1, inplace=True)\n",
    "\n",
    "# View your new column.\n",
    "data.head(3)"
   ]
  },
  {
   "cell_type": "markdown",
   "metadata": {},
   "source": [
    "**Discuss what a Label Encoder does, make sure you understand how it works**"
   ]
  },
  {
   "cell_type": "markdown",
   "metadata": {},
   "source": [
    "We have a whole bunch of these columns (run the following block to see which), so lets encode them all."
   ]
  },
  {
   "cell_type": "code",
   "execution_count": null,
   "metadata": {
    "colab": {
     "base_uri": "https://localhost:8080/",
     "height": 272
    },
    "colab_type": "code",
    "id": "y2ukq-zrJab4",
    "outputId": "da6877ce-baa0-4628-d348-9f88437fc3e7"
   },
   "outputs": [],
   "source": [
    "data.dtypes"
   ]
  },
  {
   "cell_type": "code",
   "execution_count": null,
   "metadata": {
    "colab": {
     "base_uri": "https://localhost:8080/",
     "height": 34
    },
    "colab_type": "code",
    "id": "eh0zGvZMJlXF",
    "outputId": "e9483ff4-9be9-4550-c148-97affc20b8f2"
   },
   "outputs": [],
   "source": [
    "encoded_columns = []\n",
    "for c in data.columns:\n",
    "    if data[c].dtype == \"object\":\n",
    "        if \"{}_encoded\".format(c) not in data.columns:\n",
    "            encoder = preprocessing.LabelEncoder()\n",
    "            data[\"{}_encoded\".format(c)] = encoder.fit_transform(data[c].values)\n",
    "            encoded_columns.append(c)\n",
    "            encoder = None\n",
    "        else:\n",
    "            print(\"{}_encoded already exists\".format(c))\n",
    "\n",
    "print(\"Dropping the encoded columns {}\".format(encoded_columns))\n",
    "data.drop(encoded_columns, axis=1, inplace=True)"
   ]
  },
  {
   "cell_type": "code",
   "execution_count": null,
   "metadata": {
    "colab": {
     "base_uri": "https://localhost:8080/",
     "height": 258
    },
    "colab_type": "code",
    "id": "RJTwq_2Dq1Tg",
    "outputId": "ac17e18b-e865-4260-bcd9-ccbcef24fe46"
   },
   "outputs": [],
   "source": [
    "# Check out the new numerical data table.\n",
    "data.head()"
   ]
  },
  {
   "cell_type": "code",
   "execution_count": null,
   "metadata": {
    "colab": {
     "base_uri": "https://localhost:8080/",
     "height": 102
    },
    "colab_type": "code",
    "id": "OBrIEFq0pxQj",
    "outputId": "4b835cde-9dab-49ff-80bf-a8e564a735a0"
   },
   "outputs": [],
   "source": [
    "# All available column names\n",
    "data.columns"
   ]
  },
  {
   "cell_type": "markdown",
   "metadata": {},
   "source": [
    "### Challenge"
   ]
  },
  {
   "cell_type": "code",
   "execution_count": null,
   "metadata": {},
   "outputs": [],
   "source": [
    "# Don't use the LabelEncoder but use one-hot-encoding instead.\n",
    "# For this you will need to use the pandas function pd.get_dummies\n",
    "# to encode and either a dataframe join or merge to merge the dataframes\n",
    "# inside the loop."
   ]
  },
  {
   "cell_type": "code",
   "execution_count": null,
   "metadata": {},
   "outputs": [],
   "source": [
    "# Make a copy so that we always have the original data to refer to\n",
    "data_v2 = data_original.copy(deep=True)\n",
    "\n",
    "data_v2_dummies = pd.get_dummies(data_v2)\n",
    "\n",
    "print(data_v2_dummies.head())"
   ]
  },
  {
   "cell_type": "code",
   "execution_count": null,
   "metadata": {},
   "outputs": [],
   "source": [
    "# Deletes the original column in this dataframe.\n",
    "# We need to delete one of the target columns since we only need one.\n",
    "# I am deleting the under 50k one because then we keep the column where\n",
    "# the value 1 represents people who make more than 50k and the value 0\n",
    "# represents people who make less than 50k\n",
    "data_v2_dummies.drop([\"target_ <=50K\"], axis=1, inplace=True)\n",
    "# Remove the US cencus weights\n",
    "data_v2_dummies.drop([\"fnlwgt\"], axis=1, inplace=True)\n",
    "\n",
    "# Rename the target\n",
    "data_v2_dummies.rename(columns={'target_ >50K': 'target' }, inplace=True)\n",
    "\n",
    "print(data_v2_dummies.head())"
   ]
  },
  {
   "cell_type": "markdown",
   "metadata": {},
   "source": [
    "---\n",
    "### Additional resources\n",
    "\n",
    "* [10 Minutes to pandas](https://pandas.pydata.org/pandas-docs/stable/10min.html)\n",
    "* [Intro to Pandas: -1 : An absolute beginners guide to Machine Learning and Data science.](https://hackernoon.com/intro-to-pandas-1-an-absolute-beginners-guide-to-machine-learning-and-data-science-a1fed3a6f0f3)\n",
    "* [Introduction to Pandas with Practical Examples](http://pythonforengineers.com/introduction-to-pandas/)\n",
    "* [Pandas Tutorial: DataFrames in Python](https://www.datacamp.com/community/tutorials/pandas-tutorial-dataframe-python)\n",
    "* [Python Pandas Tutorial](https://www.tutorialspoint.com/python_pandas/)"
   ]
  },
  {
   "cell_type": "code",
   "execution_count": null,
   "metadata": {},
   "outputs": [],
   "source": []
  }
 ],
 "metadata": {
  "colab": {
   "name": "Data-processing.ipynb",
   "provenance": [],
   "version": "0.3.2"
  },
  "kernelspec": {
   "display_name": "Python 3",
   "language": "python",
   "name": "python3"
  },
  "language_info": {
   "codemirror_mode": {
    "name": "ipython",
    "version": 3
   },
   "file_extension": ".py",
   "mimetype": "text/x-python",
   "name": "python",
   "nbconvert_exporter": "python",
   "pygments_lexer": "ipython3",
   "version": "3.6.5"
  }
 },
 "nbformat": 4,
 "nbformat_minor": 1
}
