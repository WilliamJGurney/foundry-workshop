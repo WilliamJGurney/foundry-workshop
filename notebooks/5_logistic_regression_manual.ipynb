{
 "cells": [
  {
   "cell_type": "markdown",
   "metadata": {
    "colab_type": "text",
    "id": "A3O-TZqLsMS4"
   },
   "source": [
    "# Manual Logistic Regression"
   ]
  },
  {
   "cell_type": "code",
   "execution_count": null,
   "metadata": {
    "colab": {},
    "colab_type": "code",
    "id": "0TgAagFGILZp"
   },
   "outputs": [],
   "source": [
    "from sklearn import datasets\n",
    "\n",
    "iris = datasets.load_iris()\n",
    "X = iris.data #[:, :2]\n",
    "y = (iris.target != 0) * 1"
   ]
  },
  {
   "cell_type": "code",
   "execution_count": null,
   "metadata": {
    "colab": {
     "base_uri": "https://localhost:8080/",
     "height": 51
    },
    "colab_type": "code",
    "id": "VSA0bPA0ILZs",
    "outputId": "3959d5ba-afb2-4721-82aa-b1a7df18876a"
   },
   "outputs": [],
   "source": [
    "print(X.shape)\n",
    "print(y.shape)"
   ]
  },
  {
   "cell_type": "code",
   "execution_count": null,
   "metadata": {
    "colab": {},
    "colab_type": "code",
    "id": "9MeorFDuILZx"
   },
   "outputs": [],
   "source": [
    "import numpy as np\n",
    "\n",
    "def sigmoid(z):\n",
    "  return 1 / ( 1 + np.exp(-z) )"
   ]
  },
  {
   "cell_type": "code",
   "execution_count": null,
   "metadata": {
    "colab": {
     "base_uri": "https://localhost:8080/",
     "height": 364
    },
    "colab_type": "code",
    "id": "38BusrlpJ1jO",
    "outputId": "8bf1257f-06d5-4662-ff72-2a6c3b1d323b"
   },
   "outputs": [],
   "source": [
    "import matplotlib.pyplot as plt\n",
    "\n",
    "xx = np.arange(-6,6,0.05)\n",
    "plt.plot(xx, sigmoid(xx))"
   ]
  },
  {
   "cell_type": "code",
   "execution_count": null,
   "metadata": {
    "colab": {},
    "colab_type": "code",
    "id": "k0AnJXQKMw1k"
   },
   "outputs": [],
   "source": [
    "beta = np.zeros(X.shape[1])"
   ]
  },
  {
   "cell_type": "code",
   "execution_count": null,
   "metadata": {
    "colab": {
     "base_uri": "https://localhost:8080/",
     "height": 34
    },
    "colab_type": "code",
    "id": "TB4k5KqVMS6l",
    "outputId": "820f57eb-857e-4232-8749-4c275a18a228"
   },
   "outputs": [],
   "source": [
    "print(beta)"
   ]
  },
  {
   "cell_type": "code",
   "execution_count": null,
   "metadata": {
    "colab": {},
    "colab_type": "code",
    "id": "FjN6WVGGMTUX"
   },
   "outputs": [],
   "source": [
    "z = np.dot(X, beta)\n",
    "\n",
    "output_estimate = sigmoid(z)"
   ]
  },
  {
   "cell_type": "code",
   "execution_count": null,
   "metadata": {
    "colab": {
     "base_uri": "https://localhost:8080/",
     "height": 170
    },
    "colab_type": "code",
    "id": "52xQWBMIMTdp",
    "outputId": "fd348391-f335-45cd-8c39-e41fdf21c8c5"
   },
   "outputs": [],
   "source": [
    "print(output_estimate)"
   ]
  },
  {
   "cell_type": "code",
   "execution_count": null,
   "metadata": {
    "colab": {},
    "colab_type": "code",
    "id": "VwFIUEjZPl0L"
   },
   "outputs": [],
   "source": [
    "def loss(output, y):\n",
    "  E = 0.00000001\n",
    "  return ( -y * np.log(output + E) - (1-y) * np.log(1 - output + E) ).mean()"
   ]
  },
  {
   "cell_type": "code",
   "execution_count": null,
   "metadata": {
    "colab": {
     "base_uri": "https://localhost:8080/",
     "height": 34
    },
    "colab_type": "code",
    "id": "5igEN7VePl-l",
    "outputId": "ba0cce9e-c57b-4afb-b0bf-1b3afe61c82b"
   },
   "outputs": [],
   "source": [
    "print(loss(output_estimate, y))"
   ]
  },
  {
   "cell_type": "code",
   "execution_count": null,
   "metadata": {
    "colab": {},
    "colab_type": "code",
    "id": "vJmMcJ2IUy1n"
   },
   "outputs": [],
   "source": [
    "gradient = np.dot(X.T, (output_estimate - y)) / y.size"
   ]
  },
  {
   "cell_type": "code",
   "execution_count": null,
   "metadata": {
    "colab": {
     "base_uri": "https://localhost:8080/",
     "height": 35
    },
    "colab_type": "code",
    "id": "cz8r7rY-V-fm",
    "outputId": "de02b20c-c312-4447-bb25-65fbfce879df"
   },
   "outputs": [],
   "source": [
    "print(gradient)"
   ]
  },
  {
   "cell_type": "code",
   "execution_count": null,
   "metadata": {
    "colab": {},
    "colab_type": "code",
    "id": "CEzD7D-BVz7J"
   },
   "outputs": [],
   "source": [
    "beta -= 0.1 * gradient"
   ]
  },
  {
   "cell_type": "code",
   "execution_count": null,
   "metadata": {
    "colab": {},
    "colab_type": "code",
    "id": "Unp0x_9SWGuN"
   },
   "outputs": [],
   "source": [
    "# Put this in a loop to train it."
   ]
  },
  {
   "cell_type": "code",
   "execution_count": null,
   "metadata": {
    "colab": {},
    "colab_type": "code",
    "id": "sQBgp6c2I1BV"
   },
   "outputs": [],
   "source": []
  }
 ],
 "metadata": {
  "colab": {
   "collapsed_sections": [],
   "name": "logistic-regression-manual.ipynb",
   "provenance": [],
   "version": "0.3.2"
  },
  "kernelspec": {
   "display_name": "Python 3",
   "language": "python",
   "name": "python3"
  },
  "language_info": {
   "codemirror_mode": {
    "name": "ipython",
    "version": 3
   },
   "file_extension": ".py",
   "mimetype": "text/x-python",
   "name": "python",
   "nbconvert_exporter": "python",
   "pygments_lexer": "ipython3",
   "version": "3.7.2"
  }
 },
 "nbformat": 4,
 "nbformat_minor": 1
}
