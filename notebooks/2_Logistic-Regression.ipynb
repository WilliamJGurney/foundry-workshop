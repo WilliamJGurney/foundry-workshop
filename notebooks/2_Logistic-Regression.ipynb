{
 "cells": [
  {
   "cell_type": "code",
   "execution_count": null,
   "metadata": {
    "colab": {},
    "colab_type": "code",
    "id": "76vFmUa3pDZp"
   },
   "outputs": [],
   "source": [
    "import pandas as pd\n",
    "from sklearn import preprocessing"
   ]
  },
  {
   "cell_type": "markdown",
   "metadata": {},
   "source": [
    "### Data pre-processing\n",
    "\n",
    "Only alter the data pre-processing code if you have completed the challenge for that section."
   ]
  },
  {
   "cell_type": "code",
   "execution_count": null,
   "metadata": {
    "colab": {},
    "colab_type": "code",
    "id": "dMaxPvA4n9W_"
   },
   "outputs": [],
   "source": [
    "# The data URI\n",
    "csv_file_uri = \"https://archive.ics.uci.edu/ml/machine-learning-databases/adult/adult.data\"\n",
    "\n",
    "column_names = [\n",
    "    \"age\", \"workclass\", \"fnlwgt\", \"education\", \"education-num\", \"marital-status\",\n",
    "    \"occupation\", \"relationship\", \"race\", \"sex\", \"capital-gain\", \"capital-loss\",\n",
    "    \"hours-per-week\", \"native-country\", \"target\"\n",
    "]\n",
    "\n",
    "\n",
    "data_original = pd.read_csv(csv_file_uri, names=column_names, index_col=False)\n",
    "\n",
    "USE_LABEL_ENCODER = False\n",
    "\n",
    "\n",
    "if USE_LABEL_ENCODER:\n",
    "\n",
    "    # Make a copy so that we always have the original data to refer to\n",
    "    data = data_original.copy(deep=True)\n",
    "\n",
    "    # Drop the US weights (don't have any value)\n",
    "    data.drop([\"fnlwgt\"], axis=1, inplace=True)\n",
    "\n",
    "    # Create a function that changes the text to a simple binary value\n",
    "    def convert_target_variable(text):\n",
    "        if text == \" <=50K\":\n",
    "            return 0\n",
    "        else:\n",
    "            return 1\n",
    "\n",
    "    data[\"target\"] = data.target.apply(convert_target_variable)\n",
    "\n",
    "    encoded_columns = []\n",
    "    for c in data.columns:\n",
    "        if data[c].dtype == \"object\":\n",
    "            if \"{}_encoded\".format(c) not in data.columns:\n",
    "                encoder = preprocessing.LabelEncoder()\n",
    "                data[\"{}_encoded\".format(c)] = encoder.fit_transform(data[c].values)\n",
    "                encoded_columns.append(c)\n",
    "                encoder = None\n",
    "            else:\n",
    "                print(\"{}_encoded already exists\".format(c))\n",
    "\n",
    "    print(\"Dropping the encoded columns {}\".format(encoded_columns))\n",
    "    data.drop(encoded_columns, axis=1, inplace=True)\n",
    "    \n",
    "else:\n",
    "    \n",
    "    # Make a copy so that we always have the original data to refer to\n",
    "    data_pre_dummies = data_original.copy(deep=True)\n",
    "\n",
    "    # Drop the US weights (don't have any value)\n",
    "    data_pre_dummies.drop([\"fnlwgt\"], axis=1, inplace=True)\n",
    "    \n",
    "    data = pd.get_dummies(data_pre_dummies)\n",
    "\n",
    "    # Deletes the original column in this dataframe.\n",
    "    data.drop([\"target_ <=50K\"], axis=1, inplace=True)\n",
    "\n",
    "    # Rename the target\n",
    "    data.rename(columns={'target_ >50K': 'target' }, inplace=True)"
   ]
  },
  {
   "cell_type": "code",
   "execution_count": null,
   "metadata": {},
   "outputs": [],
   "source": [
    "def anything(string):\n",
    "    # replace the $ with nothing\n",
    "    \n",
    "    return string.replace(\"$\",\"\")\n",
    "\n",
    "print(anything(\"$1.0\"))"
   ]
  },
  {
   "cell_type": "markdown",
   "metadata": {},
   "source": [
    "---\n",
    "### Model\n",
    "\n",
    "This is the moment we can use the new, numerical, data to plug it into pretty much any classification model. First we'll convert the data to a matrix with our features - that is the data that we want to use to predict from - and an array with our labels - the target variable that indicates if someone makes more than 50k or not."
   ]
  },
  {
   "cell_type": "code",
   "execution_count": null,
   "metadata": {
    "colab": {},
    "colab_type": "code",
    "id": "U8qcZVFMybnT"
   },
   "outputs": [],
   "source": [
    "feature_columns = data.columns.tolist()\n",
    "feature_columns.remove(\"target\")"
   ]
  },
  {
   "cell_type": "code",
   "execution_count": null,
   "metadata": {
    "colab": {
     "base_uri": "https://localhost:8080/",
     "height": 51
    },
    "colab_type": "code",
    "id": "6PKvkNxwMyPN",
    "outputId": "6f68ba5a-9170-49e9-bf8e-28827170fc64"
   },
   "outputs": [],
   "source": [
    "X = data[feature_columns].values\n",
    "y = data[\"target\"].values\n",
    "\n",
    "print(X.shape)\n",
    "print(y.shape)"
   ]
  },
  {
   "cell_type": "code",
   "execution_count": null,
   "metadata": {
    "colab": {
     "base_uri": "https://localhost:8080/",
     "height": 85
    },
    "colab_type": "code",
    "id": "RM4nGlt0NWCE",
    "outputId": "ac07d1ac-c77b-4e35-bd64-e70795ab12e5"
   },
   "outputs": [],
   "source": [
    "# Quick tips on how to index matrices/arrays\n",
    "\n",
    "# The first ROW\n",
    "print(X[0,:])\n",
    "\n",
    "# The first TWO ROWS\n",
    "print(X[:2,:])\n",
    "\n",
    "# The last ROW\n",
    "print(X[-1,:])\n",
    "\n",
    "# The first 3 ROWS with only the last TWO COLUMNS\n",
    "print(X[:3,-2:])"
   ]
  },
  {
   "cell_type": "markdown",
   "metadata": {},
   "source": [
    "Lets use a model from **scikit-learn**: LogisticRegression\n",
    "\n",
    "For those interested in the [documentation](http://scikit-learn.org/stable/modules/generated/sklearn.linear_model.LogisticRegression.html#sklearn.linear_model.LogisticRegression)"
   ]
  },
  {
   "cell_type": "code",
   "execution_count": null,
   "metadata": {
    "colab": {},
    "colab_type": "code",
    "id": "-XhqqOU0wfJv"
   },
   "outputs": [],
   "source": [
    "from sklearn import linear_model\n",
    "\n",
    "# Create linear regression object\n",
    "clf = linear_model.LogisticRegression()"
   ]
  },
  {
   "cell_type": "code",
   "execution_count": null,
   "metadata": {},
   "outputs": [],
   "source": [
    "# MAGIC\n",
    "# \n",
    "# Train the model using the training sets\n",
    "clf.fit(X, y)"
   ]
  },
  {
   "cell_type": "code",
   "execution_count": null,
   "metadata": {},
   "outputs": [],
   "source": [
    "IX = -1\n",
    "\n",
    "# Make predictions using the testing set. \n",
    "# For now we'll use the last value of the training set.\n",
    "pred = clf.predict(X[IX,:].reshape(1,-1))\n",
    "\n",
    "# Print the data \n",
    "print(data_original.iloc[data_original.index[IX]])\n",
    "\n",
    "# and the prediction\n",
    "print(\"Predict its a {}\".format(pred))\n",
    "\n",
    "probability = clf.predict_proba(X[IX,:].reshape(1,-1))\n",
    "print(\"With a probability of {}\".format(probability[0,pred[0]]))"
   ]
  },
  {
   "cell_type": "code",
   "execution_count": null,
   "metadata": {
    "colab": {
     "base_uri": "https://localhost:8080/",
     "height": 34
    },
    "colab_type": "code",
    "id": "oNh6zR4VT71B",
    "outputId": "39d5d737-6ddb-4f3a-97fd-5e6b7232be7f"
   },
   "outputs": [],
   "source": [
    "# How good is the model by evaluating it on the training set\n",
    "print(\"This model has an overall accuracy of {}\".format(clf.score(X, y)))"
   ]
  },
  {
   "cell_type": "code",
   "execution_count": null,
   "metadata": {},
   "outputs": [],
   "source": [
    "# How did the model do this? We can see the coefficients \n",
    "# for each column using \n",
    "# print(clf.coef_)\n",
    "\n",
    "print(\"The average coefficient has a value of {}\".format(clf.coef_[0].mean()))\n",
    "print(\"The max and min coefficient are {} and {}\".format(clf.coef_[0].max(), clf.coef_[0].min()))\n",
    "print(\"The standard deviation of the coefficients is {}\".format(clf.coef_[0].std()))"
   ]
  },
  {
   "cell_type": "code",
   "execution_count": null,
   "metadata": {},
   "outputs": [],
   "source": [
    "mean_coef = clf.coef_[0].mean()\n",
    "std_coef = clf.coef_[0].std()\n",
    "max_coef = clf.coef_[0].max()\n",
    "min_coef = clf.coef_[0].min()\n",
    "\n",
    "# Pretty print with the column names\n",
    "for ix, c in enumerate(feature_columns):\n",
    "    # I am only going to print the coefficients that are very extreme\n",
    "    # (i.e., close to the min/max)\n",
    "    # lets get the variables in a handy way\n",
    "    this_coef = clf.coef_[0][ix]\n",
    "    if abs((this_coef-mean_coef)/std_coef) > 1.5:\n",
    "        print(\"Column {} is {}\".format(c, clf.coef_[0][ix]))"
   ]
  },
  {
   "cell_type": "markdown",
   "metadata": {},
   "source": [
    "**The above is incredibly bad practice (up to the point where I should be fired for even showing you). Why?**"
   ]
  }
 ],
 "metadata": {
  "colab": {
   "name": "Data-processing.ipynb",
   "provenance": [],
   "version": "0.3.2"
  },
  "kernelspec": {
   "display_name": "Python 3",
   "language": "python",
   "name": "python3"
  },
  "language_info": {
   "codemirror_mode": {
    "name": "ipython",
    "version": 3
   },
   "file_extension": ".py",
   "mimetype": "text/x-python",
   "name": "python",
   "nbconvert_exporter": "python",
   "pygments_lexer": "ipython3",
   "version": "3.6.5"
  }
 },
 "nbformat": 4,
 "nbformat_minor": 1
}
