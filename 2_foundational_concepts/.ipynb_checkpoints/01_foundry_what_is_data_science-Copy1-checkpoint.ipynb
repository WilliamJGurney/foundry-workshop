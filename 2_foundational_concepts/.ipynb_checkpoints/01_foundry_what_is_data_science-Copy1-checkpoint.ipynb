{
 "cells": [
  {
   "cell_type": "markdown",
   "metadata": {
    "slideshow": {
     "slide_type": "slide"
    }
   },
   "source": [
    "<a id=\"part2\"> </a>\n",
    "# Part 2: Foundational Concepts of Machine Learning\n"
   ]
  },
  {
   "cell_type": "markdown",
   "metadata": {
    "slideshow": {
     "slide_type": "subslide"
    }
   },
   "source": [
    "<a id=\"ai\"> </a>\n",
    "## Data Science vs. Machine Learning vs. AI\n",
    "\n",
    "- ML is more prediction-oriented, whereas Statistical Modeling is generally interpretation-oriented\n",
    "\n",
    "<img src=\"assets/ml.png\" width=\"500\"/>\n",
    "\n",
    "Source: [Laurence Moroney](https://www.meetup.com/The-Telegraph-Engineering/events/251468961/) (Staff Developer Advocate at Google)"
   ]
  },
  {
   "cell_type": "markdown",
   "metadata": {
    "slideshow": {
     "slide_type": "subslide"
    }
   },
   "source": [
    "- We might use machine learning to build a solution (eg. show an ad based on predicted age group)\n",
    "- A system we built might have some behaviours qualified as AI (eg. recommender system)\n",
    "\n",
    "<img src=\"assets/AI-ML-DL.png\" width=\"500\"/>\n",
    "\n",
    "Source: \"[Deep Learning](https://www.deeplearningbook.org/contents/intro.html)\", Ian Goodfellow and Yoshua Bengio and Aaron Courville, MIT Press, 2016"
   ]
  },
  {
   "cell_type": "markdown",
   "metadata": {
    "slideshow": {
     "slide_type": "subslide"
    }
   },
   "source": [
    "<a id=\"ds-problems\"> </a>\n",
    "\n",
    "## Data Science Problems\n",
    "\n",
    "Example questions for Data Science:\n",
    "\n",
    "- how many products will we sell tomorrow?\n",
    "- is this picture a hot dog or not a hot dog?\n",
    "- based on this user's purchase history, which other users should we target with similar ads?\n",
    "- is there something suspicious about this credit card transaction?"
   ]
  },
  {
   "cell_type": "markdown",
   "metadata": {
    "slideshow": {
     "slide_type": "subslide"
    }
   },
   "source": [
    "### How many products will we sell tomorrow?\n",
    "\n"
   ]
  },
  {
   "cell_type": "markdown",
   "metadata": {
    "slideshow": {
     "slide_type": "fragment"
    }
   },
   "source": [
    "This is a <strong style=\"color:green\">regression</strong> problem, because the answer is a number on a **continuous** range"
   ]
  },
  {
   "cell_type": "markdown",
   "metadata": {
    "slideshow": {
     "slide_type": "subslide"
    }
   },
   "source": [
    "### Is this picture a hot dog or not a hot dog?\n",
    "\n"
   ]
  },
  {
   "cell_type": "markdown",
   "metadata": {
    "slideshow": {
     "slide_type": "fragment"
    }
   },
   "source": [
    "This is a <strong style=\"color:green\">classification</strong> problem, because the answer is one of a **discrete set** of answers."
   ]
  },
  {
   "cell_type": "markdown",
   "metadata": {
    "slideshow": {
     "slide_type": "subslide"
    }
   },
   "source": [
    "### Based on this user's purchase history, which other users should we target with similar ads?\n",
    "\n"
   ]
  },
  {
   "cell_type": "markdown",
   "metadata": {
    "slideshow": {
     "slide_type": "fragment"
    }
   },
   "source": [
    "This is a <strong style=\"color:green\">clustering</strong> problem, because we are **grouping together** users **without knowing the groups in advance**."
   ]
  },
  {
   "cell_type": "markdown",
   "metadata": {
    "slideshow": {
     "slide_type": "subslide"
    }
   },
   "source": [
    "### Is there something suspicious about this credit card transaction?\n",
    "\n"
   ]
  },
  {
   "cell_type": "markdown",
   "metadata": {
    "slideshow": {
     "slide_type": "fragment"
    }
   },
   "source": [
    "This is an <strong style=\"color:green\">anomaly detection</strong> problem, because we are looking for things that are **outside some definition of \"normal\"**."
   ]
  },
  {
   "cell_type": "markdown",
   "metadata": {
    "slideshow": {
     "slide_type": "slide"
    }
   },
   "source": [
    "<a id=\"ds-problems-activity\"> </a>\n",
    "\n",
    "## Activity: Data Science Problems\n",
    "\n",
    "In pairs, think of 2 examples each of a(n):\n",
    "\n",
    "- regression task\n",
    "- classification task\n",
    "- clustering task\n",
    "- anomaly detection task"
   ]
  },
  {
   "cell_type": "markdown",
   "metadata": {
    "slideshow": {
     "slide_type": "subslide"
    }
   },
   "source": [
    "Remember:\n",
    "\n",
    "- Regression = **predicting continuous outcome**\n",
    "    - e.g. predicting tomorrow's sales\n",
    "- Classification = **telling the difference between discrete outcomes**\n",
    "    - e.g. is this a picture of a hot dog or not?\n",
    "- Clustering = **finding similar things without a \"true\" answer**\n",
    "    - finding similar users based on purchases\n",
    "- Anomaly detection = **finding \"strange\" things**\n",
    "    - identifying if a credit card transaction is suspicious (fraudulent)"
   ]
  },
  {
   "cell_type": "markdown",
   "metadata": {
    "slideshow": {
     "slide_type": "slide"
    }
   },
   "source": [
    "<a id=\"supervised\"> </a>\n",
    "## Supervised vs. Unsupervised\n",
    "\n",
    "There are two main categories of machine learning: supervised learning and unsupervised learning.\n"
   ]
  },
  {
   "cell_type": "markdown",
   "metadata": {
    "slideshow": {
     "slide_type": "subslide"
    }
   },
   "source": [
    "### Supervised Learning\n",
    "\n",
    "Supervised learning tends to be the most frequent type of work that data scientists do and will be the main focus of this course. How does supervised learning work?\n",
    "\n"
   ]
  },
  {
   "cell_type": "markdown",
   "metadata": {
    "slideshow": {
     "slide_type": "fragment"
    }
   },
   "source": [
    "1) We train a **machine learning model** using **labeled data**. <br>\n",
    "    - The “machine learning model” learns some kind of relationship between the features and the response.\n",
    "\n",
    "2) We make predictions on **new data** for which the response is unknown. <br>\n",
    "\n",
    "The primary goal of supervised learning is to build a model that “generalizes” — i.e., accurately predicts the **future** rather than the **past**!"
   ]
  },
  {
   "cell_type": "markdown",
   "metadata": {
    "slideshow": {
     "slide_type": "subslide"
    }
   },
   "source": [
    "## Unsupervised Learning\n",
    "\n",
    "- Extracts structure from data.\n",
    "    - Example: Segmenting grocery store shoppers into “clusters” that exhibit similar behaviors.\n",
    "- Attempts to represent.\n",
    "- **Does not require** past data on the element we want to predict (no labeled data)"
   ]
  },
  {
   "cell_type": "markdown",
   "metadata": {
    "slideshow": {
     "slide_type": "fragment"
    }
   },
   "source": [
    "#### Common Types of Unsupervised Learning\n",
    "\n",
    "- **Clustering:** Groups “similar” data points together.\n",
    "- **Dimensionality reduction:** Reduce the dimensionality of a data set by extracting features that capture most of the variance in the data."
   ]
  },
  {
   "cell_type": "markdown",
   "metadata": {
    "slideshow": {
     "slide_type": "subslide"
    }
   },
   "source": [
    "### Examples\n",
    "\n",
    "**Supervised Learning: Coin Classifier**\n",
    "\n",
    "- **Observations:** Coins.\n",
    "- **Features:** Size and mass.\n",
    "- **Response or target variable:** Hand-labeled coin type.\n",
    "\n",
    "- Train a machine learning model using labeled data.\n",
    "    - The model learns the relationship between the features and the coin type.\n",
    "\n",
    "- Make predictions on new data for which the response is unknown.\n",
    "    - Give the model a new coin and it will predict the coin type automatically.\n",
    "    \n",
    "**Unsupervised Learning: Types of Customers at a Bar**\n",
    "\n",
    "- **Observations:** Customers.\n",
    "- **Features:** Drink purchases, people they interact with, etc.\n",
    "- **Response or target variable:** There isn’t one — instead, we group similar customers together."
   ]
  },
  {
   "cell_type": "markdown",
   "metadata": {
    "slideshow": {
     "slide_type": "subslide"
    }
   },
   "source": [
    "<a id=\"agood-questions\"> </a>\n",
    "\n",
    "### Asking a Good Question"
   ]
  },
  {
   "cell_type": "markdown",
   "metadata": {
    "slideshow": {
     "slide_type": "fragment"
    }
   },
   "source": [
    "Even though all data science projects have different general flows, they start in the same place: with a problem.  From this problem statement arises questions; questions we will ask the data in order to gain more information so we can attempt to find a solution to that problem.\n"
   ]
  },
  {
   "cell_type": "markdown",
   "metadata": {
    "slideshow": {
     "slide_type": "fragment"
    }
   },
   "source": [
    "**Why do we need a good question?**\n",
    "\n",
    "_“A problem well stated is half solved.”_ — Charles Kettering\n"
   ]
  },
  {
   "cell_type": "markdown",
   "metadata": {
    "slideshow": {
     "slide_type": "fragment"
    }
   },
   "source": [
    "A good question: \n",
    "\n",
    "- Sets you up for success as you begin analysis.\n",
    "- Establishes the basis for reproducibility.\n",
    "- Enables collaboration through clear goals.\n",
    "    - It's hard to collaborate without a vision."
   ]
  },
  {
   "cell_type": "markdown",
   "metadata": {
    "slideshow": {
     "slide_type": "subslide"
    }
   },
   "source": [
    "One way to approach formulating a question is through goal-setting via the SMART Goals Framework:\n"
   ]
  },
  {
   "cell_type": "markdown",
   "metadata": {
    "slideshow": {
     "slide_type": "fragment"
    }
   },
   "source": [
    "- **Specific**: The data set and key variables are clearly defined.\n"
   ]
  },
  {
   "cell_type": "markdown",
   "metadata": {
    "slideshow": {
     "slide_type": "fragment"
    }
   },
   "source": [
    "\n",
    "- **Measurable**: The type of analysis and major assumptions are articulated.\n"
   ]
  },
  {
   "cell_type": "markdown",
   "metadata": {
    "slideshow": {
     "slide_type": "fragment"
    }
   },
   "source": [
    "- **Attainable**: The question you are asking is feasible for your data set and not likely to be biased.\n"
   ]
  },
  {
   "cell_type": "markdown",
   "metadata": {
    "slideshow": {
     "slide_type": "fragment"
    }
   },
   "source": [
    "- **Reproducible**: Another person (or future you) can read and understand exactly how your analysis is performed.\n"
   ]
  },
  {
   "cell_type": "markdown",
   "metadata": {
    "slideshow": {
     "slide_type": "fragment"
    }
   },
   "source": [
    "- **Time-bound**: You clearly state the time period and population to which this analysis pertains.\n"
   ]
  },
  {
   "cell_type": "markdown",
   "metadata": {
    "slideshow": {
     "slide_type": "subslide"
    }
   },
   "source": [
    "#### What Are Some Common Questions Asked in Data Science?\n",
    "\n",
    "**Machine learning more or less asks the following questions:**\n",
    "\n",
    "- Does X predict Y? (Where X is a set of data and y is an outcome.)\n",
    "- Are there any distinct groups in our data?\n",
    "- What are the key components of our data?\n",
    "- Is one of our observations “weird”?\n"
   ]
  },
  {
   "cell_type": "markdown",
   "metadata": {
    "slideshow": {
     "slide_type": "fragment"
    }
   },
   "source": [
    "**From a business perspective, we can ask:**\n",
    "\n",
    "- What is the likelihood that a customer will buy this product?\n",
    "- Is this a good or bad review?\n",
    "- How much demand will there be for my service tomorrow?\n",
    "- Is this the cheapest way to deliver my goods?\n",
    "- Is there a better way to segment my marketing strategies?\n",
    "- What groups of products are customers purchasing together?\n",
    "- Can we automate this simple yes/no decision?\n",
    "\n",
    "_This list may seem limited, but we rewrite most questions to fit this form._"
   ]
  },
  {
   "cell_type": "markdown",
   "metadata": {
    "slideshow": {
     "slide_type": "slide"
    }
   },
   "source": [
    "<a id=\"simple-workflow\"> </a>\n",
    "\n",
    "## A simple workflow\n",
    "\n",
    "1. Business Question\n",
    "\n",
    "2. Data Question\n",
    "\n",
    "3. Data Answer\n",
    "\n",
    "4. Business Answer\n",
    "\n",
    "*Credit: Renee Teate, [Becoming a Data Scientist](http://becomingadatascientist.com)*"
   ]
  },
  {
   "cell_type": "markdown",
   "metadata": {
    "slideshow": {
     "slide_type": "subslide"
    }
   },
   "source": [
    "### Example\n",
    "\n",
    "#### 1. Business Question\n",
    "\n",
    "\"Is it better to hold a sale of my pork pies in June or July?\""
   ]
  },
  {
   "cell_type": "markdown",
   "metadata": {
    "slideshow": {
     "slide_type": "fragment"
    }
   },
   "source": [
    "#### 2. Data Question\n",
    "\n",
    "\"In past years, did June or July have higher demand for pork pies?\""
   ]
  },
  {
   "cell_type": "markdown",
   "metadata": {
    "slideshow": {
     "slide_type": "fragment"
    }
   },
   "source": [
    "#### 3. Data Answer\n",
    "\n",
    "\"The average number of pork pies sold over the last 5 years in June was 25% higher than July.\""
   ]
  },
  {
   "cell_type": "markdown",
   "metadata": {
    "slideshow": {
     "slide_type": "fragment"
    }
   },
   "source": [
    "#### 4. Business Answer\n",
    "\n",
    "\"I recommend holding a sale in June based on seeing higher sales in the last 5 years.\""
   ]
  },
  {
   "cell_type": "markdown",
   "metadata": {
    "slideshow": {
     "slide_type": "slide"
    }
   },
   "source": [
    "<a id=\"complex-workflow\"></a>\n",
    "## A More Complex Data Science Workflow\n",
    "\n",
    "---\n",
    "\n"
   ]
  },
  {
   "cell_type": "markdown",
   "metadata": {
    "slideshow": {
     "slide_type": "fragment"
    }
   },
   "source": [
    "- **Frame**: Develop a hypothesis-driven approach to your analysis.\n"
   ]
  },
  {
   "cell_type": "markdown",
   "metadata": {
    "slideshow": {
     "slide_type": "fragment"
    }
   },
   "source": [
    "- **Prepare**: Select, import, explore, and clean your data.\n"
   ]
  },
  {
   "cell_type": "markdown",
   "metadata": {
    "slideshow": {
     "slide_type": "fragment"
    }
   },
   "source": [
    "- **Analyse**: Structure, visualise, and complete your analysis.\n"
   ]
  },
  {
   "cell_type": "markdown",
   "metadata": {
    "slideshow": {
     "slide_type": "fragment"
    }
   },
   "source": [
    "- **Interpret**: Derive recommendations and business decisions from your data.\n"
   ]
  },
  {
   "cell_type": "markdown",
   "metadata": {
    "slideshow": {
     "slide_type": "fragment"
    }
   },
   "source": [
    "\n",
    "- **Communicate**: Present (edited) insights from your data to different audiences."
   ]
  },
  {
   "cell_type": "markdown",
   "metadata": {
    "slideshow": {
     "slide_type": "subslide"
    }
   },
   "source": [
    "![](./assets/Data-Framework-White-BG.png)"
   ]
  },
  {
   "cell_type": "markdown",
   "metadata": {
    "slideshow": {
     "slide_type": "subslide"
    }
   },
   "source": [
    "#### Notes about this workflow\n",
    "\n",
    "_Remember, these steps are not hard-set rules; instead, think of them as problem-solving guidelines._\n",
    "\n",
    "\n",
    "- Some projects may not require every step.\n",
    "- These steps are iterative; it's normal to go back and repeat certain steps a few times in a row.\n",
    "- The process is cyclical; after completing the process, you may restart it on new findings."
   ]
  }
 ],
 "metadata": {
  "celltoolbar": "Slideshow",
  "kernelspec": {
   "display_name": "Python 3",
   "language": "python",
   "name": "python3"
  },
  "language_info": {
   "codemirror_mode": {
    "name": "ipython",
    "version": 3
   },
   "file_extension": ".py",
   "mimetype": "text/x-python",
   "name": "python",
   "nbconvert_exporter": "python",
   "pygments_lexer": "ipython3",
   "version": "3.7.2"
  }
 },
 "nbformat": 4,
 "nbformat_minor": 2
}
